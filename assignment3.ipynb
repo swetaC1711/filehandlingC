{
  "nbformat": 4,
  "nbformat_minor": 0,
  "metadata": {
    "colab": {
      "provenance": []
    },
    "kernelspec": {
      "name": "python3",
      "display_name": "Python 3"
    },
    "language_info": {
      "name": "python"
    }
  },
  "cells": [
    {
      "cell_type": "code",
      "execution_count": null,
      "metadata": {
        "id": "Ybrdb0CRN9O_"
      },
      "outputs": [],
      "source": [
        "String Module Template: it allows us to create simplified syntax for output specification. The format uses placeholder names formed by $ with valid Python identifiers"
      ]
    },
    {
      "cell_type": "code",
      "source": [
        "from string import Template\n",
        "t = Template('x is $x') # Create a template that has placeholder for value of x\n",
        "print (t.substitute(x=8)) # Substitute value of x in above template"
      ],
      "metadata": {
        "colab": {
          "base_uri": "https://localhost:8080/"
        },
        "id": "NC9JRfitORI7",
        "outputId": "8c8c9821-9900-49b1-8447-7acfc937ed87"
      },
      "execution_count": 5,
      "outputs": [
        {
          "output_type": "stream",
          "name": "stdout",
          "text": [
            "x is 8\n"
          ]
        }
      ]
    },
    {
      "cell_type": "code",
      "source": [
        "templ_string = 'Hey $name, there is a $error error!'\n",
        "Template(templ_string).substitute(name='sweta', error=hex(809))"
      ],
      "metadata": {
        "colab": {
          "base_uri": "https://localhost:8080/",
          "height": 35
        },
        "id": "fbTsGNjAOs_V",
        "outputId": "a72339da-e910-42bd-d6b9-709c24386055"
      },
      "execution_count": 4,
      "outputs": [
        {
          "output_type": "execute_result",
          "data": {
            "text/plain": [
              "'Hey sweta, there is a 0x329 error!'"
            ],
            "application/vnd.google.colaboratory.intrinsic+json": {
              "type": "string"
            }
          },
          "metadata": {},
          "execution_count": 4
        }
      ]
    }
  ]
}